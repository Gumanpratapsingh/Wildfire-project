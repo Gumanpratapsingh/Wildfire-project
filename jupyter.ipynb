{
 "cells": [
  {
   "cell_type": "code",
   "execution_count": 7,
   "metadata": {},
   "outputs": [
    {
     "name": "stdout",
     "output_type": "stream",
     "text": [
      "1/1 [==============================] - 0s 260ms/step\n",
      "[[0.9953741]]\n",
      "fireeeeeee\n"
     ]
    }
   ],
   "source": [
    "from keras.models import load_model\n",
    "import numpy as np\n",
    "import keras.utils as image\n",
    "\n",
    "\n",
    "from keras.preprocessing import image\n",
    "from PIL import ImageFile\n",
    "\n",
    "file_path = \".\\\\-61.6969,51.3014.jpg\"\n",
    "\n",
    "\n",
    "def predict(filepath):\n",
    "   \n",
    "    model1 = load_model('./lr_model_satellite_wildfires.h5', compile=False)\n",
    "    \n",
    "    \n",
    "    img = image.load_img(filepath, target_size=(256, 256))\n",
    "    img = image.img_to_array(img)\n",
    "    img = img / 255.0  \n",
    "    img = np.expand_dims(img, axis=0)\n",
    "    \n",
    "    \n",
    "    ans = model1.predict(img)\n",
    "    print(ans)\n",
    "    \n",
    "    \n",
    "    if ans[0][0] < 0.5:\n",
    "        print(\"no wildfire\")\n",
    "    else:\n",
    "        print(\"fireeeeeee\")\n",
    "\n",
    "predict(file_path)\n"
   ]
  }
 ],
 "metadata": {
  "kernelspec": {
   "display_name": "Python 3",
   "language": "python",
   "name": "python3"
  },
  "language_info": {
   "codemirror_mode": {
    "name": "ipython",
    "version": 3
   },
   "file_extension": ".py",
   "mimetype": "text/x-python",
   "name": "python",
   "nbconvert_exporter": "python",
   "pygments_lexer": "ipython3",
   "version": "3.10.8"
  }
 },
 "nbformat": 4,
 "nbformat_minor": 2
}
